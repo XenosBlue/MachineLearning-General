{
  "nbformat": 4,
  "nbformat_minor": 0,
  "metadata": {
    "colab": {
      "name": "logisic regressin.ipynb",
      "provenance": [],
      "collapsed_sections": []
    },
    "kernelspec": {
      "name": "python3",
      "display_name": "Python 3"
    }
  },
  "cells": [
    {
      "cell_type": "code",
      "metadata": {
        "id": "KtMDbxv2R9dv"
      },
      "source": [
        "import numpy\r\n",
        "import pandas\r\n",
        "import math\r\n",
        "import matplotlib.pyplot as plt"
      ],
      "execution_count": 1,
      "outputs": []
    },
    {
      "cell_type": "code",
      "metadata": {
        "colab": {
          "base_uri": "https://localhost:8080/",
          "height": 402
        },
        "id": "MIX_W7ZM4wwm",
        "outputId": "6470289f-e0c0-4f8f-d3e5-f1a4fa563722"
      },
      "source": [
        "data=pandas.read_csv(\"heartdisease.csv\",header=0,usecols=[0,1,2,4,5,6,7,8,9,10,12,13,14],converters={i: str for i in range(16)})\r\n",
        "data"
      ],
      "execution_count": 2,
      "outputs": [
        {
          "output_type": "execute_result",
          "data": {
            "text/html": [
              "<div>\n",
              "<style scoped>\n",
              "    .dataframe tbody tr th:only-of-type {\n",
              "        vertical-align: middle;\n",
              "    }\n",
              "\n",
              "    .dataframe tbody tr th {\n",
              "        vertical-align: top;\n",
              "    }\n",
              "\n",
              "    .dataframe thead th {\n",
              "        text-align: right;\n",
              "    }\n",
              "</style>\n",
              "<table border=\"1\" class=\"dataframe\">\n",
              "  <thead>\n",
              "    <tr style=\"text-align: right;\">\n",
              "      <th></th>\n",
              "      <th>male</th>\n",
              "      <th>age</th>\n",
              "      <th>education</th>\n",
              "      <th>cigsPerDay</th>\n",
              "      <th>BPMeds</th>\n",
              "      <th>prevalentStroke</th>\n",
              "      <th>prevalentHyp</th>\n",
              "      <th>diabetes</th>\n",
              "      <th>totChol</th>\n",
              "      <th>sysBP</th>\n",
              "      <th>BMI</th>\n",
              "      <th>heartRate</th>\n",
              "      <th>glucose</th>\n",
              "    </tr>\n",
              "  </thead>\n",
              "  <tbody>\n",
              "    <tr>\n",
              "      <th>0</th>\n",
              "      <td>1</td>\n",
              "      <td>39</td>\n",
              "      <td>4</td>\n",
              "      <td>0</td>\n",
              "      <td>0</td>\n",
              "      <td>0</td>\n",
              "      <td>0</td>\n",
              "      <td>0</td>\n",
              "      <td>195</td>\n",
              "      <td>106</td>\n",
              "      <td>26.97</td>\n",
              "      <td>80</td>\n",
              "      <td>77</td>\n",
              "    </tr>\n",
              "    <tr>\n",
              "      <th>1</th>\n",
              "      <td>0</td>\n",
              "      <td>46</td>\n",
              "      <td>2</td>\n",
              "      <td>0</td>\n",
              "      <td>0</td>\n",
              "      <td>0</td>\n",
              "      <td>0</td>\n",
              "      <td>0</td>\n",
              "      <td>250</td>\n",
              "      <td>121</td>\n",
              "      <td>28.73</td>\n",
              "      <td>95</td>\n",
              "      <td>76</td>\n",
              "    </tr>\n",
              "    <tr>\n",
              "      <th>2</th>\n",
              "      <td>1</td>\n",
              "      <td>48</td>\n",
              "      <td>1</td>\n",
              "      <td>20</td>\n",
              "      <td>0</td>\n",
              "      <td>0</td>\n",
              "      <td>0</td>\n",
              "      <td>0</td>\n",
              "      <td>245</td>\n",
              "      <td>127.5</td>\n",
              "      <td>25.34</td>\n",
              "      <td>75</td>\n",
              "      <td>70</td>\n",
              "    </tr>\n",
              "    <tr>\n",
              "      <th>3</th>\n",
              "      <td>0</td>\n",
              "      <td>61</td>\n",
              "      <td>3</td>\n",
              "      <td>30</td>\n",
              "      <td>0</td>\n",
              "      <td>0</td>\n",
              "      <td>1</td>\n",
              "      <td>0</td>\n",
              "      <td>225</td>\n",
              "      <td>150</td>\n",
              "      <td>28.58</td>\n",
              "      <td>65</td>\n",
              "      <td>103</td>\n",
              "    </tr>\n",
              "    <tr>\n",
              "      <th>4</th>\n",
              "      <td>0</td>\n",
              "      <td>46</td>\n",
              "      <td>3</td>\n",
              "      <td>23</td>\n",
              "      <td>0</td>\n",
              "      <td>0</td>\n",
              "      <td>0</td>\n",
              "      <td>0</td>\n",
              "      <td>285</td>\n",
              "      <td>130</td>\n",
              "      <td>23.1</td>\n",
              "      <td>85</td>\n",
              "      <td>85</td>\n",
              "    </tr>\n",
              "    <tr>\n",
              "      <th>...</th>\n",
              "      <td>...</td>\n",
              "      <td>...</td>\n",
              "      <td>...</td>\n",
              "      <td>...</td>\n",
              "      <td>...</td>\n",
              "      <td>...</td>\n",
              "      <td>...</td>\n",
              "      <td>...</td>\n",
              "      <td>...</td>\n",
              "      <td>...</td>\n",
              "      <td>...</td>\n",
              "      <td>...</td>\n",
              "      <td>...</td>\n",
              "    </tr>\n",
              "    <tr>\n",
              "      <th>4233</th>\n",
              "      <td>1</td>\n",
              "      <td>50</td>\n",
              "      <td>1</td>\n",
              "      <td>1</td>\n",
              "      <td>0</td>\n",
              "      <td>0</td>\n",
              "      <td>1</td>\n",
              "      <td>0</td>\n",
              "      <td>313</td>\n",
              "      <td>179</td>\n",
              "      <td>25.97</td>\n",
              "      <td>66</td>\n",
              "      <td>86</td>\n",
              "    </tr>\n",
              "    <tr>\n",
              "      <th>4234</th>\n",
              "      <td>1</td>\n",
              "      <td>51</td>\n",
              "      <td>3</td>\n",
              "      <td>43</td>\n",
              "      <td>0</td>\n",
              "      <td>0</td>\n",
              "      <td>0</td>\n",
              "      <td>0</td>\n",
              "      <td>207</td>\n",
              "      <td>126.5</td>\n",
              "      <td>19.71</td>\n",
              "      <td>65</td>\n",
              "      <td>68</td>\n",
              "    </tr>\n",
              "    <tr>\n",
              "      <th>4235</th>\n",
              "      <td>0</td>\n",
              "      <td>48</td>\n",
              "      <td>2</td>\n",
              "      <td>20</td>\n",
              "      <td>NA</td>\n",
              "      <td>0</td>\n",
              "      <td>0</td>\n",
              "      <td>0</td>\n",
              "      <td>248</td>\n",
              "      <td>131</td>\n",
              "      <td>22</td>\n",
              "      <td>84</td>\n",
              "      <td>86</td>\n",
              "    </tr>\n",
              "    <tr>\n",
              "      <th>4236</th>\n",
              "      <td>0</td>\n",
              "      <td>44</td>\n",
              "      <td>1</td>\n",
              "      <td>15</td>\n",
              "      <td>0</td>\n",
              "      <td>0</td>\n",
              "      <td>0</td>\n",
              "      <td>0</td>\n",
              "      <td>210</td>\n",
              "      <td>126.5</td>\n",
              "      <td>19.16</td>\n",
              "      <td>86</td>\n",
              "      <td>NA</td>\n",
              "    </tr>\n",
              "    <tr>\n",
              "      <th>4237</th>\n",
              "      <td>0</td>\n",
              "      <td>52</td>\n",
              "      <td>2</td>\n",
              "      <td>0</td>\n",
              "      <td>0</td>\n",
              "      <td>0</td>\n",
              "      <td>0</td>\n",
              "      <td>0</td>\n",
              "      <td>269</td>\n",
              "      <td>133.5</td>\n",
              "      <td>21.47</td>\n",
              "      <td>80</td>\n",
              "      <td>107</td>\n",
              "    </tr>\n",
              "  </tbody>\n",
              "</table>\n",
              "<p>4238 rows × 13 columns</p>\n",
              "</div>"
            ],
            "text/plain": [
              "     male age education cigsPerDay  ...  sysBP    BMI heartRate glucose\n",
              "0       1  39         4          0  ...    106  26.97        80      77\n",
              "1       0  46         2          0  ...    121  28.73        95      76\n",
              "2       1  48         1         20  ...  127.5  25.34        75      70\n",
              "3       0  61         3         30  ...    150  28.58        65     103\n",
              "4       0  46         3         23  ...    130   23.1        85      85\n",
              "...   ...  ..       ...        ...  ...    ...    ...       ...     ...\n",
              "4233    1  50         1          1  ...    179  25.97        66      86\n",
              "4234    1  51         3         43  ...  126.5  19.71        65      68\n",
              "4235    0  48         2         20  ...    131     22        84      86\n",
              "4236    0  44         1         15  ...  126.5  19.16        86      NA\n",
              "4237    0  52         2          0  ...  133.5  21.47        80     107\n",
              "\n",
              "[4238 rows x 13 columns]"
            ]
          },
          "metadata": {
            "tags": []
          },
          "execution_count": 2
        }
      ]
    },
    {
      "cell_type": "code",
      "metadata": {
        "id": "zpJLwitO84SY"
      },
      "source": [
        "def preprocess(feature,mode):\r\n",
        "  temp=[]\r\n",
        "  nvalid=0\r\n",
        "  for each in feature:\r\n",
        "    try:\r\n",
        "      t=float(each)\r\n",
        "    except:\r\n",
        "      #print(\"error : \",each)\r\n",
        "      t=-1\r\n",
        "    if math.isnan(t):\r\n",
        "      temp.append(-1)\r\n",
        "      nvalid+=1\r\n",
        "    else:\r\n",
        "      temp.append(t)\r\n",
        "  if mode=='value':\r\n",
        "    total=numpy.sum(temp)+nvalid\r\n",
        "    avg=total/(len(temp)-nvalid)\r\n",
        "    for i,each in enumerate(temp):\r\n",
        "      if each==-1:\r\n",
        "        temp[i]=avg\r\n",
        "    norm=numpy.linalg.norm(temp)\r\n",
        "    temp=temp/norm\r\n",
        "  if mode=='bool':\r\n",
        "    types,counts=numpy.unique(temp,return_counts=True)\r\n",
        "    #print(types)\r\n",
        "    #print(counts)\r\n",
        "    if counts[len(types)-1]>=counts[len(types)-2]:\r\n",
        "      t=1\r\n",
        "    else:\r\n",
        "      t=0\r\n",
        "    #print(\"t: \",t)\r\n",
        "    for i,each in enumerate(temp):\r\n",
        "      if each== -1:\r\n",
        "        temp[i]=t\r\n",
        "  return temp"
      ],
      "execution_count": 3,
      "outputs": []
    },
    {
      "cell_type": "code",
      "metadata": {
        "colab": {
          "base_uri": "https://localhost:8080/",
          "height": 402
        },
        "id": "2XgZkBFQ-I1x",
        "outputId": "a84d56be-4e85-4783-b16a-7752182c447d"
      },
      "source": [
        "data['age']=preprocess(data['age'],'value')\r\n",
        "data['education']=preprocess(data['education'],'value')\r\n",
        "data['cigsPerDay']=preprocess(data['cigsPerDay'],'value')\r\n",
        "data['totChol']=preprocess(data['totChol'],'value')\r\n",
        "data['sysBP']=preprocess(data['sysBP'],'value')\r\n",
        "data['BMI']=preprocess(data['BMI'],'value')\r\n",
        "data['heartRate']=preprocess(data['heartRate'],'value')\r\n",
        "data['glucose']=preprocess(data['glucose'],'value')\r\n",
        "data['male']=preprocess(data['male'],'bool')\r\n",
        "data['BPMeds']=preprocess(data['BPMeds'],'bool')\r\n",
        "data['prevalentStroke']=preprocess(data['prevalentStroke'],'bool')\r\n",
        "data['prevalentHyp']=preprocess(data['prevalentHyp'],'bool')\r\n",
        "data['diabetes']=preprocess(data['diabetes'],'bool')\r\n",
        "data"
      ],
      "execution_count": 4,
      "outputs": [
        {
          "output_type": "execute_result",
          "data": {
            "text/html": [
              "<div>\n",
              "<style scoped>\n",
              "    .dataframe tbody tr th:only-of-type {\n",
              "        vertical-align: middle;\n",
              "    }\n",
              "\n",
              "    .dataframe tbody tr th {\n",
              "        vertical-align: top;\n",
              "    }\n",
              "\n",
              "    .dataframe thead th {\n",
              "        text-align: right;\n",
              "    }\n",
              "</style>\n",
              "<table border=\"1\" class=\"dataframe\">\n",
              "  <thead>\n",
              "    <tr style=\"text-align: right;\">\n",
              "      <th></th>\n",
              "      <th>male</th>\n",
              "      <th>age</th>\n",
              "      <th>education</th>\n",
              "      <th>cigsPerDay</th>\n",
              "      <th>BPMeds</th>\n",
              "      <th>prevalentStroke</th>\n",
              "      <th>prevalentHyp</th>\n",
              "      <th>diabetes</th>\n",
              "      <th>totChol</th>\n",
              "      <th>sysBP</th>\n",
              "      <th>BMI</th>\n",
              "      <th>heartRate</th>\n",
              "      <th>glucose</th>\n",
              "    </tr>\n",
              "  </thead>\n",
              "  <tbody>\n",
              "    <tr>\n",
              "      <th>0</th>\n",
              "      <td>1.0</td>\n",
              "      <td>0.011905</td>\n",
              "      <td>0.027692</td>\n",
              "      <td>0.000000</td>\n",
              "      <td>0.0</td>\n",
              "      <td>0.0</td>\n",
              "      <td>0.0</td>\n",
              "      <td>0.0</td>\n",
              "      <td>0.012439</td>\n",
              "      <td>0.012135</td>\n",
              "      <td>0.015861</td>\n",
              "      <td>0.015996</td>\n",
              "      <td>0.014006</td>\n",
              "    </tr>\n",
              "    <tr>\n",
              "      <th>1</th>\n",
              "      <td>0.0</td>\n",
              "      <td>0.014042</td>\n",
              "      <td>0.013846</td>\n",
              "      <td>0.000000</td>\n",
              "      <td>0.0</td>\n",
              "      <td>0.0</td>\n",
              "      <td>0.0</td>\n",
              "      <td>0.0</td>\n",
              "      <td>0.015948</td>\n",
              "      <td>0.013853</td>\n",
              "      <td>0.016896</td>\n",
              "      <td>0.018995</td>\n",
              "      <td>0.013825</td>\n",
              "    </tr>\n",
              "    <tr>\n",
              "      <th>2</th>\n",
              "      <td>1.0</td>\n",
              "      <td>0.014653</td>\n",
              "      <td>0.006923</td>\n",
              "      <td>0.020613</td>\n",
              "      <td>0.0</td>\n",
              "      <td>0.0</td>\n",
              "      <td>0.0</td>\n",
              "      <td>0.0</td>\n",
              "      <td>0.015629</td>\n",
              "      <td>0.014597</td>\n",
              "      <td>0.014902</td>\n",
              "      <td>0.014996</td>\n",
              "      <td>0.012733</td>\n",
              "    </tr>\n",
              "    <tr>\n",
              "      <th>3</th>\n",
              "      <td>0.0</td>\n",
              "      <td>0.018621</td>\n",
              "      <td>0.020769</td>\n",
              "      <td>0.030920</td>\n",
              "      <td>0.0</td>\n",
              "      <td>0.0</td>\n",
              "      <td>1.0</td>\n",
              "      <td>0.0</td>\n",
              "      <td>0.014353</td>\n",
              "      <td>0.017173</td>\n",
              "      <td>0.016807</td>\n",
              "      <td>0.012997</td>\n",
              "      <td>0.018736</td>\n",
              "    </tr>\n",
              "    <tr>\n",
              "      <th>4</th>\n",
              "      <td>0.0</td>\n",
              "      <td>0.014042</td>\n",
              "      <td>0.020769</td>\n",
              "      <td>0.023705</td>\n",
              "      <td>0.0</td>\n",
              "      <td>0.0</td>\n",
              "      <td>0.0</td>\n",
              "      <td>0.0</td>\n",
              "      <td>0.018180</td>\n",
              "      <td>0.014883</td>\n",
              "      <td>0.013585</td>\n",
              "      <td>0.016995</td>\n",
              "      <td>0.015462</td>\n",
              "    </tr>\n",
              "    <tr>\n",
              "      <th>...</th>\n",
              "      <td>...</td>\n",
              "      <td>...</td>\n",
              "      <td>...</td>\n",
              "      <td>...</td>\n",
              "      <td>...</td>\n",
              "      <td>...</td>\n",
              "      <td>...</td>\n",
              "      <td>...</td>\n",
              "      <td>...</td>\n",
              "      <td>...</td>\n",
              "      <td>...</td>\n",
              "      <td>...</td>\n",
              "      <td>...</td>\n",
              "    </tr>\n",
              "    <tr>\n",
              "      <th>4233</th>\n",
              "      <td>1.0</td>\n",
              "      <td>0.015263</td>\n",
              "      <td>0.006923</td>\n",
              "      <td>0.001031</td>\n",
              "      <td>0.0</td>\n",
              "      <td>0.0</td>\n",
              "      <td>1.0</td>\n",
              "      <td>0.0</td>\n",
              "      <td>0.019967</td>\n",
              "      <td>0.020493</td>\n",
              "      <td>0.015272</td>\n",
              "      <td>0.013196</td>\n",
              "      <td>0.015644</td>\n",
              "    </tr>\n",
              "    <tr>\n",
              "      <th>4234</th>\n",
              "      <td>1.0</td>\n",
              "      <td>0.015568</td>\n",
              "      <td>0.020769</td>\n",
              "      <td>0.044318</td>\n",
              "      <td>0.0</td>\n",
              "      <td>0.0</td>\n",
              "      <td>0.0</td>\n",
              "      <td>0.0</td>\n",
              "      <td>0.013205</td>\n",
              "      <td>0.014482</td>\n",
              "      <td>0.011591</td>\n",
              "      <td>0.012997</td>\n",
              "      <td>0.012369</td>\n",
              "    </tr>\n",
              "    <tr>\n",
              "      <th>4235</th>\n",
              "      <td>0.0</td>\n",
              "      <td>0.014653</td>\n",
              "      <td>0.013846</td>\n",
              "      <td>0.020613</td>\n",
              "      <td>0.0</td>\n",
              "      <td>0.0</td>\n",
              "      <td>0.0</td>\n",
              "      <td>0.0</td>\n",
              "      <td>0.015820</td>\n",
              "      <td>0.014998</td>\n",
              "      <td>0.012938</td>\n",
              "      <td>0.016795</td>\n",
              "      <td>0.015644</td>\n",
              "    </tr>\n",
              "    <tr>\n",
              "      <th>4236</th>\n",
              "      <td>0.0</td>\n",
              "      <td>0.013432</td>\n",
              "      <td>0.006923</td>\n",
              "      <td>0.015460</td>\n",
              "      <td>0.0</td>\n",
              "      <td>0.0</td>\n",
              "      <td>0.0</td>\n",
              "      <td>0.0</td>\n",
              "      <td>0.013396</td>\n",
              "      <td>0.014482</td>\n",
              "      <td>0.011268</td>\n",
              "      <td>0.017195</td>\n",
              "      <td>0.013528</td>\n",
              "    </tr>\n",
              "    <tr>\n",
              "      <th>4237</th>\n",
              "      <td>0.0</td>\n",
              "      <td>0.015874</td>\n",
              "      <td>0.013846</td>\n",
              "      <td>0.000000</td>\n",
              "      <td>0.0</td>\n",
              "      <td>0.0</td>\n",
              "      <td>0.0</td>\n",
              "      <td>0.0</td>\n",
              "      <td>0.017160</td>\n",
              "      <td>0.015284</td>\n",
              "      <td>0.012626</td>\n",
              "      <td>0.015996</td>\n",
              "      <td>0.019464</td>\n",
              "    </tr>\n",
              "  </tbody>\n",
              "</table>\n",
              "<p>4238 rows × 13 columns</p>\n",
              "</div>"
            ],
            "text/plain": [
              "      male       age  education  ...       BMI  heartRate   glucose\n",
              "0      1.0  0.011905   0.027692  ...  0.015861   0.015996  0.014006\n",
              "1      0.0  0.014042   0.013846  ...  0.016896   0.018995  0.013825\n",
              "2      1.0  0.014653   0.006923  ...  0.014902   0.014996  0.012733\n",
              "3      0.0  0.018621   0.020769  ...  0.016807   0.012997  0.018736\n",
              "4      0.0  0.014042   0.020769  ...  0.013585   0.016995  0.015462\n",
              "...    ...       ...        ...  ...       ...        ...       ...\n",
              "4233   1.0  0.015263   0.006923  ...  0.015272   0.013196  0.015644\n",
              "4234   1.0  0.015568   0.020769  ...  0.011591   0.012997  0.012369\n",
              "4235   0.0  0.014653   0.013846  ...  0.012938   0.016795  0.015644\n",
              "4236   0.0  0.013432   0.006923  ...  0.011268   0.017195  0.013528\n",
              "4237   0.0  0.015874   0.013846  ...  0.012626   0.015996  0.019464\n",
              "\n",
              "[4238 rows x 13 columns]"
            ]
          },
          "metadata": {
            "tags": []
          },
          "execution_count": 4
        }
      ]
    },
    {
      "cell_type": "code",
      "metadata": {
        "colab": {
          "base_uri": "https://localhost:8080/",
          "height": 402
        },
        "id": "Nb2VxKeD-HLM",
        "outputId": "a12f9b85-62bf-4586-9b22-fc9738111d81"
      },
      "source": [
        "y=pandas.read_csv(\"heartdisease.csv\",header=0,usecols=[15],converters={i: str for i in range(16)})\r\n",
        "y['TenYearCHD']=preprocess(y['TenYearCHD'],'bool')\r\n",
        "y"
      ],
      "execution_count": 5,
      "outputs": [
        {
          "output_type": "execute_result",
          "data": {
            "text/html": [
              "<div>\n",
              "<style scoped>\n",
              "    .dataframe tbody tr th:only-of-type {\n",
              "        vertical-align: middle;\n",
              "    }\n",
              "\n",
              "    .dataframe tbody tr th {\n",
              "        vertical-align: top;\n",
              "    }\n",
              "\n",
              "    .dataframe thead th {\n",
              "        text-align: right;\n",
              "    }\n",
              "</style>\n",
              "<table border=\"1\" class=\"dataframe\">\n",
              "  <thead>\n",
              "    <tr style=\"text-align: right;\">\n",
              "      <th></th>\n",
              "      <th>TenYearCHD</th>\n",
              "    </tr>\n",
              "  </thead>\n",
              "  <tbody>\n",
              "    <tr>\n",
              "      <th>0</th>\n",
              "      <td>0.0</td>\n",
              "    </tr>\n",
              "    <tr>\n",
              "      <th>1</th>\n",
              "      <td>0.0</td>\n",
              "    </tr>\n",
              "    <tr>\n",
              "      <th>2</th>\n",
              "      <td>0.0</td>\n",
              "    </tr>\n",
              "    <tr>\n",
              "      <th>3</th>\n",
              "      <td>1.0</td>\n",
              "    </tr>\n",
              "    <tr>\n",
              "      <th>4</th>\n",
              "      <td>0.0</td>\n",
              "    </tr>\n",
              "    <tr>\n",
              "      <th>...</th>\n",
              "      <td>...</td>\n",
              "    </tr>\n",
              "    <tr>\n",
              "      <th>4233</th>\n",
              "      <td>1.0</td>\n",
              "    </tr>\n",
              "    <tr>\n",
              "      <th>4234</th>\n",
              "      <td>0.0</td>\n",
              "    </tr>\n",
              "    <tr>\n",
              "      <th>4235</th>\n",
              "      <td>0.0</td>\n",
              "    </tr>\n",
              "    <tr>\n",
              "      <th>4236</th>\n",
              "      <td>0.0</td>\n",
              "    </tr>\n",
              "    <tr>\n",
              "      <th>4237</th>\n",
              "      <td>0.0</td>\n",
              "    </tr>\n",
              "  </tbody>\n",
              "</table>\n",
              "<p>4238 rows × 1 columns</p>\n",
              "</div>"
            ],
            "text/plain": [
              "      TenYearCHD\n",
              "0            0.0\n",
              "1            0.0\n",
              "2            0.0\n",
              "3            1.0\n",
              "4            0.0\n",
              "...          ...\n",
              "4233         1.0\n",
              "4234         0.0\n",
              "4235         0.0\n",
              "4236         0.0\n",
              "4237         0.0\n",
              "\n",
              "[4238 rows x 1 columns]"
            ]
          },
          "metadata": {
            "tags": []
          },
          "execution_count": 5
        }
      ]
    },
    {
      "cell_type": "code",
      "metadata": {
        "id": "neUVrdrEAg3X"
      },
      "source": [
        "def split(x,y,k):\r\n",
        "  if k>1 or k<0:\r\n",
        "    k=0.1\r\n",
        "    print(\"ratio error fixed to 0.1\")\r\n",
        "  samples=numpy.shape(x)[1]\r\n",
        "  test_size=int(samples*k)\r\n",
        "  #print(\"test_size : \",test_size,\" \",type(test_size))\r\n",
        "  x_train=x[:,:samples-test_size]\r\n",
        "  x_test=x[:,samples-test_size:samples]\r\n",
        "  y_train=y[:,:samples-test_size]\r\n",
        "  y_test=y[:,samples-test_size:samples]\r\n",
        "  print(\"split sizes : \",numpy.shape(x_train),' ',numpy.shape(x_test),' ',numpy.shape(y_train),' ',numpy.shape(y_test))\r\n",
        "  return x_train,x_test,y_train,y_test"
      ],
      "execution_count": 6,
      "outputs": []
    },
    {
      "cell_type": "code",
      "metadata": {
        "colab": {
          "base_uri": "https://localhost:8080/"
        },
        "id": "pcjMvm-1_CRl",
        "outputId": "0d667b8e-8dfd-44ca-c3e3-0e67d7816ea7"
      },
      "source": [
        "x=data.to_numpy()\r\n",
        "x=x.T\r\n",
        "print(\"x shape: \",numpy.shape(x))\r\n",
        "y=y.to_numpy()\r\n",
        "y=y.T\r\n",
        "print(\"y shape : \",numpy.shape(y))\r\n",
        "x_train,x_test,y_train,y_test = split(x,y,0.1)"
      ],
      "execution_count": 7,
      "outputs": [
        {
          "output_type": "stream",
          "text": [
            "x shape:  (13, 4238)\n",
            "y shape :  (1, 4238)\n",
            "split sizes :  (13, 3815)   (13, 423)   (1, 3815)   (1, 423)\n"
          ],
          "name": "stdout"
        }
      ]
    },
    {
      "cell_type": "code",
      "metadata": {
        "id": "vRP0yFmtjRIt"
      },
      "source": [
        "def sigmoid(x):\r\n",
        "  return 1/(1+numpy.exp(-x))"
      ],
      "execution_count": 8,
      "outputs": []
    },
    {
      "cell_type": "code",
      "metadata": {
        "id": "kX24c_8vyR2D"
      },
      "source": [
        "def weights(size):\r\n",
        "  print(size)\r\n",
        "  #w=numpy.zeros(shape=(size, 1))\r\n",
        "  w=numpy.random.rand(size,1)\r\n",
        "  b=0\r\n",
        "  return w,b"
      ],
      "execution_count": 9,
      "outputs": []
    },
    {
      "cell_type": "code",
      "metadata": {
        "id": "vqGYA4tdyUY_"
      },
      "source": [
        "def loss(x,y,w,b):\r\n",
        "  m = x.shape[1]\r\n",
        "  h = sigmoid(numpy.dot(w.T,x)+b)\r\n",
        "  loss = (-1/m)*(numpy.sum((y*numpy.log(h))+((1-y)*(numpy.log(1-h)))))\r\n",
        "  return loss"
      ],
      "execution_count": 10,
      "outputs": []
    },
    {
      "cell_type": "code",
      "metadata": {
        "id": "wjv4vCovgJo7"
      },
      "source": [
        "def gradient(x,y,w,b):\r\n",
        "  m = x.shape[1]\r\n",
        "  h = sigmoid(numpy.dot(w.T,x)+b)\r\n",
        "  dw = (1/(m))*numpy.dot(x,(h-y).T)\r\n",
        "  db = (1/(m))*(numpy.sum(h-y))\r\n",
        "  return dw,db"
      ],
      "execution_count": 11,
      "outputs": []
    },
    {
      "cell_type": "code",
      "metadata": {
        "id": "AZocXrnkfEY_"
      },
      "source": [
        "def train(e,alpha,x_train,x_test,y_train,y_test):\r\n",
        "  train_loss=[]\r\n",
        "  test_loss=[]\r\n",
        "  w,b=weights(x_train.shape[0])\r\n",
        "  \r\n",
        "  \r\n",
        "\r\n",
        "  for i in range(e):\r\n",
        "    trl = loss(x_train,y_train,w,b)\r\n",
        "    train_loss.append(trl)\r\n",
        "    if i%1000==0:\r\n",
        "      print(\"i : \",i,\"  Losses : \",trl,\"   \")\r\n",
        "      h = sigmoid(numpy.dot(w.T,x_train)+b)\r\n",
        "      train_pred = (h>0.5).astype(int)\r\n",
        "      print(\"train accuracy:  \",(100-numpy.mean(abs(train_pred-y_train).astype(int))*100))\r\n",
        "    dw,db=gradient(x_train,y_train,w,b)\r\n",
        "    #print(numpy.shape(dw),\" \",numpy.shape(w))\r\n",
        "    w-= alpha*dw\r\n",
        "    b-= alpha*db\r\n",
        "\r\n",
        "  return w,b,train_loss,test_loss"
      ],
      "execution_count": 12,
      "outputs": []
    },
    {
      "cell_type": "code",
      "metadata": {
        "colab": {
          "base_uri": "https://localhost:8080/",
          "height": 632
        },
        "id": "r7x6S9140CXW",
        "outputId": "12ac7cbf-4e21-4cdf-f45e-ee44f3402ada"
      },
      "source": [
        "w,b,train_loss,test_loss=train(10000,0.001,x_train,x_test,y_train,y_test)\r\n",
        "\r\n",
        "plt.plot(train_loss,label='train_set')\r\n",
        "plt.ylabel('loss')\r\n",
        "plt.xlabel('iterations')\r\n",
        "plt.show()\r\n",
        "\r\n"
      ],
      "execution_count": 13,
      "outputs": [
        {
          "output_type": "stream",
          "text": [
            "13\n",
            "i :  0   Losses :  0.8542617423701919    \n",
            "train accuracy:   15.072083879423332\n",
            "i :  1000   Losses :  0.6610041339965491    \n",
            "train accuracy:   68.72870249017038\n",
            "i :  2000   Losses :  0.5575827468788224    \n",
            "train accuracy:   74.70511140235911\n",
            "i :  3000   Losses :  0.5015131998057217    \n",
            "train accuracy:   84.53473132372216\n",
            "i :  4000   Losses :  0.4698790565372766    \n",
            "train accuracy:   84.84927916120577\n",
            "i :  5000   Losses :  0.45119650138427697    \n",
            "train accuracy:   84.77064220183486\n",
            "i :  6000   Losses :  0.4396649119799921    \n",
            "train accuracy:   84.82306684141547\n",
            "i :  7000   Losses :  0.43224629699120887    \n",
            "train accuracy:   84.79685452162516\n",
            "i :  8000   Losses :  0.42728141898150723    \n",
            "train accuracy:   84.79685452162516\n",
            "i :  9000   Losses :  0.4238276034553629    \n",
            "train accuracy:   84.95412844036697\n"
          ],
          "name": "stdout"
        },
        {
          "output_type": "display_data",
          "data": {
            "image/png": "[encoded data removed]",
            "text/plain": [
              "<Figure size 432x288 with 1 Axes>"
            ]
          },
          "metadata": {
            "tags": [],
            "needs_background": "light"
          }
        }
      ]
    },
    {
      "cell_type": "code",
      "metadata": {
        "id": "4to2Rn0GmxZ8"
      },
      "source": [
        "def stats(h,thr,y):\r\n",
        "  pred = (h>thr).astype(int)\r\n",
        "  #print(pred)\r\n",
        "  #print(thr)\r\n",
        "  FP=0\r\n",
        "  FN=0\r\n",
        "  TP=0\r\n",
        "  TN=0\r\n",
        "  for i in range(train_pred.shape[1]):\r\n",
        "    if pred[:,i:i+1]==[[1]] and y[:,i:i+1]==[[1]]:\r\n",
        "      TP+=1\r\n",
        "    if pred[:,i:i+1]==[[1]] and y[:,i:i+1]==[[0]]:\r\n",
        "      FP+=1\r\n",
        "    if pred[:,i:i+1]==[[0]] and y[:,i:i+1]==[[1]]:\r\n",
        "      FN+=1\r\n",
        "    if pred[:,i:i+1]==[[0]] and y[:,i:i+1]==[[0]]:\r\n",
        "      TN+=1\r\n",
        "  #print(TP,\" \",TN,\" \",FP,\" \",FN)\r\n",
        "  return TP,TN,FP,FN\r\n"
      ],
      "execution_count": 104,
      "outputs": []
    },
    {
      "cell_type": "code",
      "metadata": {
        "colab": {
          "base_uri": "https://localhost:8080/"
        },
        "id": "c7dis7LZpWyx",
        "outputId": "b2e5fa1d-7d45-4c06-807c-711c94015f70"
      },
      "source": [
        "h = sigmoid(numpy.dot(w.T,x_train)+b)\r\n",
        "ht= sigmoid(numpy.dot(w.T,x_test)+b)\r\n",
        "#print(train_pred.shape[1])\r\n",
        "#print(\"train accuracy:  \",(100-numpy.mean(abs(train_pred-y_train).astype(int))*100))\r\n",
        "#print(\"test accuracy:  \",(100-numpy.mean(abs(test_pred-y_test).astype(int))*100))\r\n",
        "#print(y_test.shape)\r\n",
        "TP,TN,FP,FN = stats(h,0.5,y_train)\r\n",
        "print(\"Confusion Matrix (Train):-\")\r\n",
        "print(\"    P    N\\n\",\"T \",TP,\"  \",TN,\"\\n F \",FP,\"  \",FN,\"\\n\")\r\n",
        "print(\"Precision : \",(TP/(TP+FP)))\r\n",
        "print(\"Recall    : \",(TP/(TP+FN)),\"\\n\\n\")\r\n",
        "TP,TN,FP,FN = stats(ht,0.5,y_test)\r\n",
        "print(\"Confusion Matrix (Test):-\")\r\n",
        "print(\"    P    N\\n\",\"T \",TP,\"  \",TN,\"\\n F \",FP,\"  \",FN)\r\n",
        "print(\"\\nPrecision : \",(TP/(TP+FP)))\r\n",
        "print(\"Recall    : \",(TP/(TP+FN)))"
      ],
      "execution_count": 117,
      "outputs": [
        {
          "output_type": "stream",
          "text": [
            "Confusion Matrix (Train):-\n",
            "    P    N\n",
            " T  176    2801 \n",
            " F  439    399 \n",
            "\n",
            "Precision :  0.2861788617886179\n",
            "Recall    :  0.3060869565217391 \n",
            "\n",
            "\n",
            "Confusion Matrix (Test):-\n",
            "    P    N\n",
            " T  24    299 \n",
            " F  55    45\n",
            "\n",
            "Precision :  0.3037974683544304\n",
            "Recall    :  0.34782608695652173\n"
          ],
          "name": "stdout"
        },
        {
          "output_type": "stream",
          "text": [
            "/usr/local/lib/python3.6/dist-packages/ipykernel_launcher.py:10: DeprecationWarning: The truth value of an empty array is ambiguous. Returning False, but in future this will result in an error. Use `array.size > 0` to check that an array is not empty.\n",
            "  # Remove the CWD from sys.path while we load stuff.\n",
            "/usr/local/lib/python3.6/dist-packages/ipykernel_launcher.py:12: DeprecationWarning: The truth value of an empty array is ambiguous. Returning False, but in future this will result in an error. Use `array.size > 0` to check that an array is not empty.\n",
            "  if sys.path[0] == '':\n",
            "/usr/local/lib/python3.6/dist-packages/ipykernel_launcher.py:14: DeprecationWarning: The truth value of an empty array is ambiguous. Returning False, but in future this will result in an error. Use `array.size > 0` to check that an array is not empty.\n",
            "  \n",
            "/usr/local/lib/python3.6/dist-packages/ipykernel_launcher.py:16: DeprecationWarning: The truth value of an empty array is ambiguous. Returning False, but in future this will result in an error. Use `array.size > 0` to check that an array is not empty.\n",
            "  app.launch_new_instance()\n"
          ],
          "name": "stderr"
        }
      ]
    },
    {
      "cell_type": "code",
      "metadata": {
        "colab": {
          "base_uri": "https://localhost:8080/",
          "height": 298
        },
        "id": "bgqlZT4SmnWO",
        "outputId": "b09bc1dc-a8c5-4802-b853-c6e8650ce0be"
      },
      "source": [
        "lsens = []\r\n",
        "lspec = []\r\n",
        "for i in range(0,100,5):\r\n",
        "  thr=float(i/100)\r\n",
        "  #print(thr)\r\n",
        "  h = sigmoid(numpy.dot(w.T,x_train)+b)\r\n",
        "  TP,TN,FP,FN = stats(h,thr,y_train)\r\n",
        "  #print(TP,\" \",TN,\" \",FP,\" \",FN)\r\n",
        "  #print(TP)\r\n",
        "  sensitivity = TP/(TP+FN)\r\n",
        "  specificity = TN/(TN+FP)\r\n",
        "  lsens.append(sensitivity)\r\n",
        "  lspec.append(1-specificity)\r\n",
        "lsens=numpy.array(lsens)\r\n",
        "lspec=numpy.array(lspec)\r\n",
        "xaxis=numpy.arange(0.0, 1, 0.05)\r\n",
        "fig, p = plt.subplots(1,1)\r\n",
        "p.plot(lspec,lsens,marker = 'o')\r\n",
        "p.set_title('ROC Graph')\r\n",
        "plt.show"
      ],
      "execution_count": 123,
      "outputs": [
        {
          "output_type": "execute_result",
          "data": {
            "text/plain": [
              "<function matplotlib.pyplot.show>"
            ]
          },
          "metadata": {
            "tags": []
          },
          "execution_count": 123
        },
        {
          "output_type": "display_data",
          "data": {
            "image/png": "[encoded data removed]",
            "text/plain": [
              "<Figure size 432x288 with 1 Axes>"
            ]
          },
          "metadata": {
            "tags": [],
            "needs_background": "light"
          }
        }
      ]
    },
    {
      "cell_type": "code",
      "metadata": {
        "id": "Knm49c1DdtBg"
      },
      "source": [
        "#changing gradient def\r\n",
        "def gradient(x,y,w,b):\r\n",
        "  weighted_g=5\r\n",
        "  m = x.shape[1]\r\n",
        "  h = sigmoid(numpy.dot(w.T,x)+b)\r\n",
        "  delta_y = h-(weighted_g*y)\r\n",
        "  dw = (1/(m))*numpy.dot(x,(delta_y).T)\r\n",
        "  db = (1/(m))*(numpy.sum(h-y))\r\n",
        "  return dw,db"
      ],
      "execution_count": 61,
      "outputs": []
    },
    {
      "cell_type": "code",
      "metadata": {
        "colab": {
          "base_uri": "https://localhost:8080/",
          "height": 632
        },
        "id": "7gGU0Uxr0k71",
        "outputId": "9672ca9e-0dce-4c1b-a486-5ba160a7da10"
      },
      "source": [
        "w,b,train_loss,test_loss=train(10000,0.001,x_train,x_test,y_train,y_test)\r\n",
        "\r\n",
        "plt.plot(train_loss,label='train_set')\r\n",
        "plt.ylabel('loss')\r\n",
        "plt.xlabel('iterations')\r\n",
        "plt.show()"
      ],
      "execution_count": 63,
      "outputs": [
        {
          "output_type": "stream",
          "text": [
            "13\n",
            "i :  0   Losses :  0.7675184041478692    \n",
            "train accuracy:   15.072083879423332\n",
            "i :  1000   Losses :  0.6752294377516526    \n",
            "train accuracy:   48.702490170380074\n",
            "i :  2000   Losses :  0.618162329398226    \n",
            "train accuracy:   77.90301441677589\n",
            "i :  3000   Losses :  0.5835255910206343    \n",
            "train accuracy:   78.00786369593709\n",
            "i :  4000   Losses :  0.5635858328242707    \n",
            "train accuracy:   78.1127129750983\n",
            "i :  5000   Losses :  0.5536240146329463    \n",
            "train accuracy:   78.0340760157274\n",
            "i :  6000   Losses :  0.5506719272700975    \n",
            "train accuracy:   78.0340760157274\n",
            "i :  7000   Losses :  0.5527934293896236    \n",
            "train accuracy:   78.0340760157274\n",
            "i :  8000   Losses :  0.5586808128760726    \n",
            "train accuracy:   78.0340760157274\n",
            "i :  9000   Losses :  0.5674236048258864    \n",
            "train accuracy:   78.0340760157274\n"
          ],
          "name": "stdout"
        },
        {
          "output_type": "display_data",
          "data": {
            "image/png": "[encoded data removed]",
            "text/plain": [
              "<Figure size 432x288 with 1 Axes>"
            ]
          },
          "metadata": {
            "tags": [],
            "needs_background": "light"
          }
        }
      ]
    },
    {
      "cell_type": "code",
      "metadata": {
        "colab": {
          "base_uri": "https://localhost:8080/"
        },
        "id": "fwpN460B0s8-",
        "outputId": "94721d58-1d2f-44df-954c-bf1f791f3943"
      },
      "source": [
        "h = sigmoid(numpy.dot(w.T,x_train)+b)\r\n",
        "ht= sigmoid(numpy.dot(w.T,x_test)+b)\r\n",
        "TP,TN,FP,FN = stats(h,0.5)\r\n",
        "print(\"Confusion Matrix(train data: weighted gradient):-\")\r\n",
        "print(\"    P    N\\n\",\"T \",TP,\"  \",TN,\"\\n F \",FP,\"  \",FN,\"\\n\\n\")\r\n",
        "if TP+FP!=0:\r\n",
        "  print(\"Precision : \",(TP/(TP+FP)))\r\n",
        "else:\r\n",
        "  print(\"Precision : NA\")\r\n",
        "if TP+FN!=0:\r\n",
        "  print(\"Recall    : \",(TP/(TP+FN)),\"\\n\\n\")\r\n",
        "else:\r\n",
        "  print(\"Recall    : NA\\n\\n\")\r\n",
        "TP,TN,FP,FN = stats(ht,0.5)\r\n",
        "print(\"Confusion Matrix(test data: weighted gradient):-\")\r\n",
        "print(\"    P    N\\n\",\"T \",TP,\"  \",TN,\"\\n F \",FP,\"  \",FN)\r\n",
        "if TP+FP!=0:\r\n",
        "  print(\"\\nPrecision : \",(TP/(TP+FP)))\r\n",
        "else:\r\n",
        "  print(\"\\nPrecision : NA\")\r\n",
        "if TP+FN!=0:\r\n",
        "  print(\"Recall    : \",(TP/(TP+FN)))\r\n",
        "else:\r\n",
        "  print(\"Recall    : NA\")"
      ],
      "execution_count": 64,
      "outputs": [
        {
          "output_type": "stream",
          "text": [
            "Confusion Matrix(train data: weighted gradient):-\n",
            "    P    N\n",
            " T  176    2801 \n",
            " F  439    399 \n",
            "\n",
            "\n",
            "Precision :  0.2861788617886179\n",
            "Recall    :  0.3060869565217391 \n",
            "\n",
            "\n",
            "Confusion Matrix(test data: weighted gradient):-\n",
            "    P    N\n",
            " T  24    299 \n",
            " F  55    45\n",
            "\n",
            "Precision :  0.3037974683544304\n",
            "Recall    :  0.34782608695652173\n"
          ],
          "name": "stdout"
        }
      ]
    },
    {
      "cell_type": "code",
      "metadata": {
        "id": "6Qtm-HQI0zpZ"
      },
      "source": [
        ""
      ],
      "execution_count": null,
      "outputs": []
    }
  ]
}